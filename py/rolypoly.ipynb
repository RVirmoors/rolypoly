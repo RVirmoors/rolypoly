{
  "nbformat": 4,
  "nbformat_minor": 0,
  "metadata": {
    "colab": {
      "name": "rolypoly.ipynb",
      "provenance": [],
      "collapsed_sections": [],
      "toc_visible": true
    },
    "kernelspec": {
      "name": "python3",
      "display_name": "Python 3"
    },
    "accelerator": "GPU"
  },
  "cells": [
    {
      "cell_type": "markdown",
      "metadata": {
        "id": "QS-hyR17axu1",
        "colab_type": "text"
      },
      "source": [
        "initialisation & preparing the session"
      ]
    },
    {
      "cell_type": "code",
      "metadata": {
        "id": "P8cCDatO-QPQ",
        "colab_type": "code",
        "colab": {
          "base_uri": "https://localhost:8080/",
          "height": 36
        },
        "outputId": "be49c5c5-94fc-4c36-9246-844f4da99d15"
      },
      "source": [
        "import torch\n",
        "device = torch.device('cuda' if torch.cuda.is_available() else 'cpu')\n",
        "device  #should be 'cuda'"
      ],
      "execution_count": null,
      "outputs": [
        {
          "output_type": "execute_result",
          "data": {
            "text/plain": [
              "device(type='cuda')"
            ]
          },
          "metadata": {
            "tags": []
          },
          "execution_count": 1
        }
      ]
    },
    {
      "cell_type": "code",
      "metadata": {
        "id": "CmFyEZx0tzkq",
        "colab_type": "code",
        "colab": {
          "base_uri": "https://localhost:8080/",
          "height": 148
        },
        "outputId": "c1d1001c-3c8b-4e74-d498-90df22e55fb1"
      },
      "source": [
        "!git clone https://github.com/RVirmoors/rolypoly.git"
      ],
      "execution_count": null,
      "outputs": [
        {
          "output_type": "stream",
          "text": [
            "Cloning into 'rolypoly'...\n",
            "remote: Enumerating objects: 165, done.\u001b[K\n",
            "remote: Counting objects: 100% (165/165), done.\u001b[K\n",
            "remote: Compressing objects: 100% (115/115), done.\u001b[K\n",
            "remote: Total 1714 (delta 104), reused 106 (delta 47), pack-reused 1549\u001b[K\n",
            "Receiving objects: 100% (1714/1714), 40.34 MiB | 15.06 MiB/s, done.\n",
            "Resolving deltas: 100% (830/830), done.\n"
          ],
          "name": "stdout"
        }
      ]
    },
    {
      "cell_type": "markdown",
      "metadata": {
        "id": "MvPoULWybFPi",
        "colab_type": "text"
      },
      "source": [
        "upload a .zip file containing the GMD dataset w/ accompanying .csv files (generated locally)"
      ]
    },
    {
      "cell_type": "code",
      "metadata": {
        "id": "_oFnNXsOuiLv",
        "colab_type": "code",
        "colab": {
          "resources": {
            "http://localhost:8080/nbextensions/google.colab/files.js": {
              "data": "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",
              "ok": true,
              "headers": [
                [
                  "content-type",
                  "application/javascript"
                ]
              ],
              "status": 200,
              "status_text": "OK"
            }
          },
          "base_uri": "https://localhost:8080/",
          "height": 75
        },
        "outputId": "912ef95e-fb90-4672-99ec-ab7634c9d944"
      },
      "source": [
        "from google.colab import files\n",
        "uploadedZip = files.upload()"
      ],
      "execution_count": null,
      "outputs": [
        {
          "output_type": "display_data",
          "data": {
            "text/html": [
              "\n",
              "     <input type=\"file\" id=\"files-6e59d7e0-d0a1-4642-9117-3ccd519ecd35\" name=\"files[]\" multiple disabled\n",
              "        style=\"border:none\" />\n",
              "     <output id=\"result-6e59d7e0-d0a1-4642-9117-3ccd519ecd35\">\n",
              "      Upload widget is only available when the cell has been executed in the\n",
              "      current browser session. Please rerun this cell to enable.\n",
              "      </output>\n",
              "      <script src=\"/nbextensions/google.colab/files.js\"></script> "
            ],
            "text/plain": [
              "<IPython.core.display.HTML object>"
            ]
          },
          "metadata": {
            "tags": []
          }
        },
        {
          "output_type": "stream",
          "text": [
            "Saving groove.zip to groove.zip\n"
          ],
          "name": "stdout"
        }
      ]
    },
    {
      "cell_type": "code",
      "metadata": {
        "id": "yOZ6MC1Jv77p",
        "colab_type": "code",
        "colab": {}
      },
      "source": [
        "!unzip groove.zip -d \"rolypoly/py/data\" # will create data/groove/..."
      ],
      "execution_count": null,
      "outputs": []
    },
    {
      "cell_type": "code",
      "metadata": {
        "id": "HyQKPA9lxAPg",
        "colab_type": "code",
        "colab": {
          "base_uri": "https://localhost:8080/",
          "height": 262
        },
        "outputId": "4ddfa940-604c-424b-d5f5-4ead09a72e75"
      },
      "source": [
        "!pip install pretty_midi optuna"
      ],
      "execution_count": null,
      "outputs": [
        {
          "output_type": "stream",
          "text": [
            "  Building wheel for pretty-midi (setup.py) ... \u001b[?25l\u001b[?25hdone\n",
            "  Created wheel for pretty-midi: filename=pretty_midi-0.2.9-cp36-none-any.whl size=5591953 sha256=4e47b8dc22a33a78f9d2c5abf1cc9ca0927bcbedf01c207e0688ec4ed10647a4\n",
            "  Stored in directory: /root/.cache/pip/wheels/4c/a1/c6/b5697841db1112c6e5866d75a6b6bf1bef73b874782556ba66\n",
            "  Building wheel for optuna (setup.py) ... \u001b[?25l\u001b[?25hdone\n",
            "  Created wheel for optuna: filename=optuna-2.0.0-cp36-none-any.whl size=312964 sha256=7775bb1f103d9f9fa1e1cd1c9b1f6a9d94c2e39444ddc1718b595aa8cd4645c7\n",
            "  Stored in directory: /root/.cache/pip/wheels/b5/c9/03/c45484454bf657ffed0ed6af153bd3d213928df115eb2a56eb\n",
            "  Building wheel for pyperclip (setup.py) ... \u001b[?25l\u001b[?25hdone\n",
            "  Created wheel for pyperclip: filename=pyperclip-1.8.0-cp36-none-any.whl size=8693 sha256=d82fbd03a59101e334bdd196bdd78e9b7fb7cb51783c11bd32056b0ca9b13e84\n",
            "  Stored in directory: /root/.cache/pip/wheels/b2/ac/0a/b784f0afe26eaf52e88a7e15c7369090deea0354fa1c6fc689\n",
            "Successfully built pretty-midi optuna pyperclip\n",
            "Installing collected packages: mido, pretty-midi, python-editor, Mako, alembic, pyperclip, colorama, cmd2, pbr, stevedore, cliff, cmaes, colorlog, optuna\n",
            "Successfully installed Mako-1.1.3 alembic-1.4.2 cliff-3.4.0 cmaes-0.6.0 cmd2-1.3.0 colorama-0.4.3 colorlog-4.2.1 mido-1.2.9 optuna-2.0.0 pbr-5.4.5 pretty-midi-0.2.9 pyperclip-1.8.0 python-editor-1.0.4 stevedore-3.2.0\n"
          ],
          "name": "stdout"
        }
      ]
    },
    {
      "cell_type": "code",
      "metadata": {
        "id": "NOxb8b5XxCHK",
        "colab_type": "code",
        "colab": {
          "base_uri": "https://localhost:8080/",
          "height": 36
        },
        "outputId": "e771c587-dd61-46b3-a708-5d854ed15baf"
      },
      "source": [
        "%cd rolypoly/py/"
      ],
      "execution_count": null,
      "outputs": [
        {
          "output_type": "stream",
          "text": [
            "/content/rolypoly/py\n"
          ],
          "name": "stdout"
        }
      ]
    },
    {
      "cell_type": "markdown",
      "metadata": {
        "id": "0JJvYtqTrVij",
        "colab_type": "text"
      },
      "source": [
        "do optimisation & download tensorboard trial runs"
      ]
    },
    {
      "cell_type": "code",
      "metadata": {
        "id": "J4xCNlX3xIYS",
        "colab_type": "code",
        "colab": {
          "base_uri": "https://localhost:8080/",
          "height": 1000
        },
        "outputId": "01c58615-dbef-44f5-c083-bbb3b646f3bb"
      },
      "source": [
        "!python3 train_gmd.py --optuna"
      ],
      "execution_count": null,
      "outputs": [
        {
          "output_type": "stream",
          "text": [
            "Filtering out samples shorter than 1 seconds...\n",
            "Dropped 4 short samples.\n",
            "Data loaded in 0m 10s\n",
            "===========\n",
            "2 training batches ( 631 files ). 1 val batches ( 93 files ).\n",
            "TimingLSTM(\n",
            "  (lstm): LSTM(15, 128, num_layers=2, batch_first=True, dropout=0.3)\n",
            "  (hidden_to_y): Linear(in_features=128, out_features=1, bias=True)\n",
            ")\n",
            "window size: 256 bars | hop: 128 bars | lr: 1.2256161903204906e-05\n",
            "Running on cuda:0\n",
            "2020-08-06 11:12:55.238691: I tensorflow/stream_executor/platform/default/dso_loader.cc:48] Successfully opened dynamic library libcudart.so.10.1\n",
            "100% 119/119 [02:56<00:00,  1.48s/it]\n",
            "100% 41/41 [00:56<00:00,  1.38s/it]\n",
            "Epoch 1 train loss: 0.0023280852665613343\n",
            "100% 20/20 [00:27<00:00,  1.35s/it]\n",
            "Epoch 1 val loss: 0.0001135698566918935\n",
            "100% 132/132 [03:17<00:00,  1.50s/it]\n",
            "100% 28/28 [00:39<00:00,  1.40s/it]\n",
            "Epoch 2 train loss: 0.0011576192607676478\n",
            "100% 20/20 [00:27<00:00,  1.37s/it]\n",
            "Epoch 2 val loss: 9.665292860443163e-05\n",
            "100% 134/134 [03:20<00:00,  1.50s/it]\n",
            "100% 26/26 [00:36<00:00,  1.41s/it]\n",
            "Epoch 3 train loss: 0.0010595795171213591\n",
            "100% 20/20 [00:27<00:00,  1.37s/it]\n",
            "Epoch 3 val loss: 9.084643822245307e-05\n",
            "100% 132/132 [03:18<00:00,  1.51s/it]\n",
            "100% 27/27 [00:39<00:00,  1.47s/it]\n",
            "Epoch 4 train loss: 0.0009641329925464769\n",
            "100% 20/20 [00:27<00:00,  1.37s/it]\n",
            "Epoch 4 val loss: 8.510339497440934e-05\n",
            "100% 126/126 [03:10<00:00,  1.51s/it]\n",
            "100% 33/33 [00:47<00:00,  1.43s/it]\n",
            "Epoch 5 train loss: 0.0008860169715769069\n",
            "100% 20/20 [00:27<00:00,  1.36s/it]\n",
            "Epoch 5 val loss: 7.981829675476612e-05\n",
            "100% 131/131 [03:15<00:00,  1.50s/it]\n",
            "100% 29/29 [00:41<00:00,  1.45s/it]\n",
            "Epoch 6 train loss: 0.0008112617453550625\n",
            "100% 20/20 [00:27<00:00,  1.37s/it]\n",
            "Epoch 6 val loss: 7.32125034328454e-05\n",
            "100% 134/134 [03:22<00:00,  1.51s/it]\n",
            "100% 26/26 [00:33<00:00,  1.29s/it]\n",
            "Epoch 7 train loss: 0.000746606392239482\n",
            "100% 20/20 [00:27<00:00,  1.38s/it]\n",
            "Epoch 7 val loss: 6.780502771940219e-05\n",
            "100% 127/127 [03:10<00:00,  1.50s/it]\n",
            "100% 32/32 [00:44<00:00,  1.39s/it]\n",
            "Epoch 8 train loss: 0.0006852758395619535\n",
            "100% 20/20 [00:27<00:00,  1.36s/it]\n",
            "Epoch 8 val loss: 6.490064250617662e-05\n",
            "100% 127/127 [03:10<00:00,  1.50s/it]\n",
            "100% 33/33 [00:47<00:00,  1.45s/it]\n",
            "Epoch 9 train loss: 0.0006336201452092773\n",
            "100% 20/20 [00:27<00:00,  1.38s/it]\n",
            "Epoch 9 val loss: 5.967981459953784e-05\n",
            "100% 134/134 [03:20<00:00,  1.50s/it]\n",
            "100% 26/26 [00:34<00:00,  1.32s/it]\n",
            "Epoch 10 train loss: 0.000588645786996287\n",
            "100% 20/20 [00:27<00:00,  1.38s/it]\n",
            "Epoch 10 val loss: 5.6091615628737796e-05\n",
            "100% 130/130 [03:14<00:00,  1.49s/it]\n",
            "100% 30/30 [00:44<00:00,  1.49s/it]\n",
            "Epoch 11 train loss: 0.0005473966317564471\n",
            "100% 20/20 [00:27<00:00,  1.37s/it]\n",
            "Epoch 11 val loss: 5.309898592878402e-05\n",
            "100% 120/120 [03:00<00:00,  1.50s/it]\n",
            "100% 40/40 [00:58<00:00,  1.47s/it]\n",
            "Epoch 12 train loss: 0.0005087603746588297\n",
            "100% 20/20 [00:27<00:00,  1.37s/it]\n",
            "Epoch 12 val loss: 5.027866946010623e-05\n",
            "100% 134/134 [03:20<00:00,  1.50s/it]\n",
            "100% 25/25 [00:35<00:00,  1.43s/it]\n",
            "Epoch 13 train loss: 0.000479021960028813\n",
            "100% 20/20 [00:26<00:00,  1.35s/it]\n",
            "Epoch 13 val loss: 4.741130321878087e-05\n",
            "100% 136/136 [03:24<00:00,  1.50s/it]\n",
            "100% 24/24 [00:33<00:00,  1.40s/it]\n",
            "Epoch 14 train loss: 0.00044833899451203875\n",
            "100% 20/20 [00:27<00:00,  1.38s/it]\n",
            "Epoch 14 val loss: 4.4740860166185175e-05\n",
            "100% 123/123 [03:04<00:00,  1.50s/it]\n",
            "100% 37/37 [00:53<00:00,  1.46s/it]\n",
            "Epoch 15 train loss: 0.0004216811737622115\n",
            "100% 20/20 [00:27<00:00,  1.37s/it]\n",
            "Epoch 15 val loss: 4.250536998210057e-05\n",
            "100% 134/134 [03:21<00:00,  1.50s/it]\n",
            "100% 26/26 [00:35<00:00,  1.38s/it]\n",
            "Epoch 16 train loss: 0.00039826048160642905\n",
            "100% 20/20 [00:27<00:00,  1.38s/it]\n",
            "Epoch 16 val loss: 4.031207941815305e-05\n",
            "100% 120/120 [03:00<00:00,  1.51s/it]\n",
            "100% 39/39 [00:58<00:00,  1.49s/it]\n",
            "Epoch 17 train loss: 0.0003759326676801805\n",
            "100% 20/20 [00:27<00:00,  1.37s/it]\n",
            "Epoch 17 val loss: 3.847887602985038e-05\n",
            "100% 126/126 [03:09<00:00,  1.50s/it]\n",
            "100% 34/34 [00:48<00:00,  1.42s/it]\n",
            "Epoch 18 train loss: 0.00035801140880576163\n",
            "100% 20/20 [00:27<00:00,  1.38s/it]\n",
            "Epoch 18 val loss: 3.668083847083659e-05\n",
            "100% 136/136 [03:24<00:00,  1.50s/it]\n",
            "100% 24/24 [00:34<00:00,  1.46s/it]\n",
            "Epoch 19 train loss: 0.00033972887818959306\n",
            "100% 20/20 [00:26<00:00,  1.35s/it]\n",
            "Epoch 19 val loss: 3.477528284145439e-05\n",
            "100% 128/128 [03:11<00:00,  1.50s/it]\n",
            "100% 32/32 [00:44<00:00,  1.40s/it]\n",
            "Epoch 20 train loss: 0.0003241761371530846\n",
            "100% 20/20 [00:27<00:00,  1.38s/it]\n",
            "Epoch 20 val loss: 3.371172338373485e-05\n",
            "100% 116/116 [02:54<00:00,  1.50s/it]\n",
            "100% 44/44 [01:02<00:00,  1.41s/it]\n",
            "Epoch 21 train loss: 0.00030916714330946776\n",
            " 65% 13/20 [00:19<00:10,  1.48s/it]Traceback (most recent call last):\n",
            "  File \"/content/rolypoly/py/timing.py\", line 424, in train\n",
            "    loss = model.loss(mb_Y_hat, mb_Y, mb_X[:,:,14])\n",
            "  File \"/content/rolypoly/py/timing.py\", line 323, in loss\n",
            "    b = [(diff_hat[i+1] - diff_hat[i] != 0) for i in range(diff_hat.shape[0]-1)]\n",
            "  File \"/content/rolypoly/py/timing.py\", line 323, in <listcomp>\n",
            "    b = [(diff_hat[i+1] - diff_hat[i] != 0) for i in range(diff_hat.shape[0]-1)]\n",
            "KeyboardInterrupt\n",
            "\n",
            "During handling of the above exception, another exception occurred:\n",
            "\n",
            "Traceback (most recent call last):\n",
            "  File \"train_gmd.py\", line 347, in <module>\n",
            "    study.optimize(objective, n_trials=2)\n",
            "  File \"/usr/local/lib/python3.6/dist-packages/optuna/study.py\", line 292, in optimize\n",
            "    func, n_trials, timeout, catch, callbacks, gc_after_trial, None\n",
            "  File \"/usr/local/lib/python3.6/dist-packages/optuna/study.py\", line 654, in _optimize_sequential\n",
            "    self._run_trial_and_callbacks(func, catch, callbacks, gc_after_trial)\n",
            "  File \"/usr/local/lib/python3.6/dist-packages/optuna/study.py\", line 685, in _run_trial_and_callbacks\n",
            "    trial = self._run_trial(func, catch, gc_after_trial)\n",
            "  File \"/usr/local/lib/python3.6/dist-packages/optuna/study.py\", line 709, in _run_trial\n",
            "    result = func(trial)\n",
            "  File \"train_gmd.py\", line 341, in objective\n",
            "    model, dl, lr=lr, minibatch_size=bs, minihop_size=bs / 2, epochs=ep)\n",
            "  File \"/content/rolypoly/py/timing.py\", line 424, in train\n",
            "    loss = model.loss(mb_Y_hat, mb_Y, mb_X[:,:,14])\n",
            "KeyboardInterrupt\n",
            " 65% 13/20 [00:20<00:10,  1.55s/it]\n",
            "\u001b[0m"
          ],
          "name": "stdout"
        }
      ]
    },
    {
      "cell_type": "code",
      "metadata": {
        "id": "LMXcBWCzNlhk",
        "colab_type": "code",
        "colab": {}
      },
      "source": [
        "!zip -r /content/runs.zip /content/rolypoly/py/runs/\n",
        "files.download(\"/content/runs.zip\")\n",
        "\n",
        "# then do locally: !tensorboard --logdir=runs "
      ],
      "execution_count": null,
      "outputs": []
    },
    {
      "cell_type": "markdown",
      "metadata": {
        "id": "PCYFVrA0dQaz",
        "colab_type": "text"
      },
      "source": [
        "once you're satisfied with your settings, [edit train_gmd.py and] train your model and save it to disk."
      ]
    },
    {
      "cell_type": "code",
      "metadata": {
        "id": "BWXPZLD5darp",
        "colab_type": "code",
        "colab": {
          "base_uri": "https://localhost:8080/",
          "height": 1000
        },
        "outputId": "2cb53458-69aa-435a-d09c-f22cd1048445"
      },
      "source": [
        "!python3 train_gmd.py --epochs 100 --hop_size 64"
      ],
      "execution_count": null,
      "outputs": [
        {
          "output_type": "stream",
          "text": [
            "Filtering out samples shorter than 1 seconds...\n",
            "Dropped 4 short samples.\n",
            "Data loaded in 0m 10s\n",
            "===========\n",
            "2 training batches ( 631 files ). 1 val batches ( 93 files ).\n",
            "Start training for 100 epochs...\n",
            "TimingLSTM(\n",
            "  (lstm): LSTM(15, 256, num_layers=2, batch_first=True, dropout=0.3)\n",
            "  (hidden_to_y): Linear(in_features=256, out_features=1, bias=True)\n",
            ")\n",
            "window size: 64 bars | hop: 64 bars | lr: 0.001\n",
            "Running on cuda:0\n",
            "2020-08-06 20:25:46.723781: I tensorflow/stream_executor/platform/default/dso_loader.cc:48] Successfully opened dynamic library libcudart.so.10.1\n",
            "100% 252/252 [01:44<00:00,  2.42it/s]\n",
            "100% 67/67 [00:24<00:00,  2.71it/s]\n",
            "Epoch 1 train loss: 0.0008272413014114144\n",
            "100% 39/39 [00:14<00:00,  2.75it/s]\n",
            "Epoch 1 val loss: 9.800385364335716e-06\n",
            "100% 267/267 [01:50<00:00,  2.42it/s]\n",
            "100% 51/51 [00:20<00:00,  2.52it/s]\n",
            "Epoch 2 train loss: 7.218180784558081e-05\n",
            "100% 39/39 [00:14<00:00,  2.70it/s]\n",
            "Epoch 2 val loss: 7.618659154651975e-06\n",
            "100% 256/256 [01:45<00:00,  2.43it/s]\n",
            "100% 63/63 [00:25<00:00,  2.45it/s]\n",
            "Epoch 3 train loss: 7.144152521004366e-05\n",
            "100% 39/39 [00:14<00:00,  2.75it/s]\n",
            "Epoch 3 val loss: 7.652451290804986e-06\n",
            "100% 248/248 [01:42<00:00,  2.41it/s]\n",
            "100% 70/70 [00:26<00:00,  2.68it/s]\n",
            "Epoch 4 train loss: 7.16654111669969e-05\n",
            "100% 39/39 [00:14<00:00,  2.70it/s]\n",
            "Epoch 4 val loss: 8.038352587573665e-06\n",
            "100% 255/255 [01:44<00:00,  2.43it/s]\n",
            "100% 64/64 [00:25<00:00,  2.55it/s]\n",
            "Epoch 5 train loss: 7.146800324920757e-05\n",
            "100% 39/39 [00:14<00:00,  2.73it/s]\n",
            "Epoch 5 val loss: 1.0569786576010444e-05\n",
            "100% 275/275 [01:53<00:00,  2.43it/s]\n",
            "100% 43/43 [00:15<00:00,  2.69it/s]\n",
            "Epoch 6 train loss: 8.506744056161198e-05\n",
            "100% 39/39 [00:14<00:00,  2.73it/s]\n",
            "Epoch 6 val loss: 8.093160446930597e-06\n",
            "100% 248/248 [01:42<00:00,  2.42it/s]\n",
            "100% 70/70 [00:29<00:00,  2.40it/s]\n",
            "Epoch 7 train loss: 7.165016645257496e-05\n",
            "100% 39/39 [00:14<00:00,  2.71it/s]\n",
            "Epoch 7 val loss: 7.884102288197307e-06\n",
            "100% 257/257 [01:46<00:00,  2.42it/s]\n",
            "100% 61/61 [00:24<00:00,  2.52it/s]\n",
            "Epoch 8 train loss: 7.150855961691647e-05\n",
            "100% 39/39 [00:14<00:00,  2.67it/s]\n",
            "Epoch 8 val loss: 7.570865541653349e-06\n",
            "100% 267/267 [01:50<00:00,  2.42it/s]\n",
            "100% 52/52 [00:21<00:00,  2.45it/s]\n",
            "Epoch 9 train loss: 7.030428664598735e-05\n",
            "100% 39/39 [00:14<00:00,  2.71it/s]\n",
            "Epoch 9 val loss: 7.360252834585498e-06\n",
            "100% 273/273 [01:52<00:00,  2.44it/s]\n",
            "100% 45/45 [00:18<00:00,  2.41it/s]\n",
            "Epoch 10 train loss: 6.929481098393221e-05\n",
            "100% 39/39 [00:14<00:00,  2.73it/s]\n",
            "Epoch 10 val loss: 7.715402894252055e-06\n",
            "100% 252/252 [01:43<00:00,  2.43it/s]\n",
            "100% 67/67 [00:27<00:00,  2.45it/s]\n",
            "Epoch 11 train loss: 6.725399479382184e-05\n",
            "100% 39/39 [00:14<00:00,  2.73it/s]\n",
            "Epoch 11 val loss: 6.80274246820642e-06\n",
            "100% 253/253 [01:45<00:00,  2.41it/s]\n",
            "100% 65/65 [00:26<00:00,  2.44it/s]\n",
            "Epoch 12 train loss: 6.244896738852058e-05\n",
            "100% 39/39 [00:14<00:00,  2.67it/s]\n",
            "Epoch 12 val loss: 6.259172379275286e-06\n",
            "100% 264/264 [01:49<00:00,  2.41it/s]\n",
            "100% 54/54 [00:21<00:00,  2.51it/s]\n",
            "Epoch 13 train loss: 5.984631697700821e-05\n",
            "100% 39/39 [00:14<00:00,  2.68it/s]\n",
            "Epoch 13 val loss: 6.205750720726625e-06\n",
            "100% 246/246 [01:41<00:00,  2.41it/s]\n",
            "100% 73/73 [00:30<00:00,  2.43it/s]\n",
            "Epoch 14 train loss: 6.496712935908853e-05\n",
            "100% 39/39 [00:14<00:00,  2.73it/s]\n",
            "Epoch 14 val loss: 7.044815744591577e-06\n",
            "100% 266/266 [01:50<00:00,  2.41it/s]\n",
            "100% 52/52 [00:19<00:00,  2.72it/s]\n",
            "Epoch 15 train loss: 5.472811684963224e-05\n",
            "100% 39/39 [00:14<00:00,  2.73it/s]\n",
            "Epoch 15 val loss: 5.150862164929345e-06\n",
            "100% 269/269 [01:51<00:00,  2.42it/s]\n",
            "100% 49/49 [00:19<00:00,  2.51it/s]\n",
            "Epoch 16 train loss: 5.046337644208607e-05\n",
            "100% 39/39 [00:14<00:00,  2.67it/s]\n",
            "Epoch 16 val loss: 1.6241572441607038e-05\n",
            "100% 255/255 [01:45<00:00,  2.42it/s]\n",
            "100% 63/63 [00:24<00:00,  2.52it/s]\n",
            "Epoch 17 train loss: 5.0510720582362086e-05\n",
            "100% 39/39 [00:14<00:00,  2.65it/s]\n",
            "Epoch 17 val loss: 4.502354934268366e-06\n",
            "100% 266/266 [01:50<00:00,  2.41it/s]\n",
            "100% 53/53 [00:21<00:00,  2.48it/s]\n",
            "Epoch 18 train loss: 4.39452301980497e-05\n",
            "100% 39/39 [00:14<00:00,  2.74it/s]\n",
            "Epoch 18 val loss: 4.087969317940822e-06\n",
            "100% 260/260 [01:48<00:00,  2.40it/s]\n",
            "100% 58/58 [00:24<00:00,  2.41it/s]\n",
            "Epoch 19 train loss: 4.709924897620846e-05\n",
            "100% 39/39 [00:14<00:00,  2.74it/s]\n",
            "Epoch 19 val loss: 4.984278605816268e-06\n",
            "100% 257/257 [01:47<00:00,  2.40it/s]\n",
            "100% 61/61 [00:22<00:00,  2.75it/s]\n",
            "Epoch 20 train loss: 4.480855766900816e-05\n",
            "100% 39/39 [00:14<00:00,  2.67it/s]\n",
            "Epoch 20 val loss: 4.226404653333306e-06\n",
            " 15% 38/259 [00:15<01:31,  2.42it/s]"
          ],
          "name": "stdout"
        }
      ]
    },
    {
      "cell_type": "code",
      "metadata": {
        "id": "GZ4jT447PlaS",
        "colab_type": "code",
        "colab": {}
      },
      "source": [
        ""
      ],
      "execution_count": null,
      "outputs": []
    }
  ]
}